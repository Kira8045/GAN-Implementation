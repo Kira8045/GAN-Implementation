{
  "nbformat": 4,
  "nbformat_minor": 0,
  "metadata": {
    "colab": {
      "name": "GAN.ipynb",
      "provenance": [],
      "authorship_tag": "ABX9TyP1BpHi29SWLnaHTChbWwQE",
      "include_colab_link": true
    },
    "kernelspec": {
      "name": "python3",
      "display_name": "Python 3"
    }
  },
  "cells": [
    {
      "cell_type": "markdown",
      "metadata": {
        "id": "view-in-github",
        "colab_type": "text"
      },
      "source": [
        "<a href=\"https://colab.research.google.com/github/Kira8045/GAN-Implementation/blob/master/GAN.ipynb\" target=\"_parent\"><img src=\"https://colab.research.google.com/assets/colab-badge.svg\" alt=\"Open In Colab\"/></a>"
      ]
    },
    {
      "cell_type": "code",
      "metadata": {
        "id": "JUW2miJKTlqF",
        "colab_type": "code",
        "colab": {
          "base_uri": "https://localhost:8080/",
          "height": 88
        },
        "outputId": "2d0c4f81-bfde-4960-a722-3e9ea75122b8"
      },
      "source": [
        "import tensorflow as tf\n",
        "tf.disable_v2_behavior()\n",
        "import matplotlib.pyplot as plt\n",
        "import numpy as np"
      ],
      "execution_count": 45,
      "outputs": [
        {
          "output_type": "stream",
          "text": [
            "WARNING:tensorflow:From /usr/local/lib/python3.6/dist-packages/tensorflow_core/python/compat/v2_compat.py:68: disable_resource_variables (from tensorflow.python.ops.variable_scope) is deprecated and will be removed in a future version.\n",
            "Instructions for updating:\n",
            "non-resource variables are not supported in the long term\n"
          ],
          "name": "stdout"
        }
      ]
    },
    {
      "cell_type": "code",
      "metadata": {
        "id": "S138RJI_TvHy",
        "colab_type": "code",
        "colab": {
          "base_uri": "https://localhost:8080/",
          "height": 595
        },
        "outputId": "d0b5a99f-41c3-4b1a-cb87-59581e36704b"
      },
      "source": [
        "!wget http://fashion-mnist.s3-website.eu-central-1.amazonaws.com/train-images-idx3-ubyte.gz\n",
        "!wget http://fashion-mnist.s3-website.eu-central-1.amazonaws.com/train-images-idx1-ubyte.gz\n",
        "!wget http://fashion-mnist.s3-website.eu-central-1.amazonaws.com/t10k-images-idx3-ubyte.gz\n",
        "!wget http://fashion-mnist.s3-website.eu-central-1.amazonaws.com/t10k-images-idx1-ubyte.gz\n",
        "\n"
      ],
      "execution_count": 46,
      "outputs": [
        {
          "output_type": "stream",
          "text": [
            "--2020-02-08 12:35:34--  http://fashion-mnist.s3-website.eu-central-1.amazonaws.com/train-images-idx3-ubyte.gz\n",
            "Resolving fashion-mnist.s3-website.eu-central-1.amazonaws.com (fashion-mnist.s3-website.eu-central-1.amazonaws.com)... 52.219.73.142\n",
            "Connecting to fashion-mnist.s3-website.eu-central-1.amazonaws.com (fashion-mnist.s3-website.eu-central-1.amazonaws.com)|52.219.73.142|:80... connected.\n",
            "HTTP request sent, awaiting response... 200 OK\n",
            "Length: 26421880 (25M) [binary/octet-stream]\n",
            "Saving to: ‘train-images-idx3-ubyte.gz.1’\n",
            "\n",
            "train-images-idx3-u 100%[===================>]  25.20M  11.9MB/s    in 2.1s    \n",
            "\n",
            "2020-02-08 12:35:37 (11.9 MB/s) - ‘train-images-idx3-ubyte.gz.1’ saved [26421880/26421880]\n",
            "\n",
            "--2020-02-08 12:35:38--  http://fashion-mnist.s3-website.eu-central-1.amazonaws.com/train-images-idx1-ubyte.gz\n",
            "Resolving fashion-mnist.s3-website.eu-central-1.amazonaws.com (fashion-mnist.s3-website.eu-central-1.amazonaws.com)... 52.219.72.142\n",
            "Connecting to fashion-mnist.s3-website.eu-central-1.amazonaws.com (fashion-mnist.s3-website.eu-central-1.amazonaws.com)|52.219.72.142|:80... connected.\n",
            "HTTP request sent, awaiting response... 404 Not Found\n",
            "2020-02-08 12:35:38 ERROR 404: Not Found.\n",
            "\n",
            "--2020-02-08 12:35:40--  http://fashion-mnist.s3-website.eu-central-1.amazonaws.com/t10k-images-idx3-ubyte.gz\n",
            "Resolving fashion-mnist.s3-website.eu-central-1.amazonaws.com (fashion-mnist.s3-website.eu-central-1.amazonaws.com)... 52.219.47.0\n",
            "Connecting to fashion-mnist.s3-website.eu-central-1.amazonaws.com (fashion-mnist.s3-website.eu-central-1.amazonaws.com)|52.219.47.0|:80... connected.\n",
            "HTTP request sent, awaiting response... 200 OK\n",
            "Length: 4422102 (4.2M) [binary/octet-stream]\n",
            "Saving to: ‘t10k-images-idx3-ubyte.gz.1’\n",
            "\n",
            "t10k-images-idx3-ub 100%[===================>]   4.22M  3.72MB/s    in 1.1s    \n",
            "\n",
            "2020-02-08 12:35:41 (3.72 MB/s) - ‘t10k-images-idx3-ubyte.gz.1’ saved [4422102/4422102]\n",
            "\n",
            "--2020-02-08 12:35:43--  http://fashion-mnist.s3-website.eu-central-1.amazonaws.com/t10k-images-idx1-ubyte.gz\n",
            "Resolving fashion-mnist.s3-website.eu-central-1.amazonaws.com (fashion-mnist.s3-website.eu-central-1.amazonaws.com)... 52.219.73.90\n",
            "Connecting to fashion-mnist.s3-website.eu-central-1.amazonaws.com (fashion-mnist.s3-website.eu-central-1.amazonaws.com)|52.219.73.90|:80... connected.\n",
            "HTTP request sent, awaiting response... 404 Not Found\n",
            "2020-02-08 12:35:43 ERROR 404: Not Found.\n",
            "\n"
          ],
          "name": "stdout"
        }
      ]
    },
    {
      "cell_type": "code",
      "metadata": {
        "id": "Z8NkYGBPUL8v",
        "colab_type": "code",
        "colab": {
          "base_uri": "https://localhost:8080/",
          "height": 34
        },
        "outputId": "2c42ad14-ecb0-4b17-88f6-5496a57122fa"
      },
      "source": [
        "!mkdir MNIST_Fashion\n",
        "! cp *.gz MNIST_Fashion/"
      ],
      "execution_count": 47,
      "outputs": [
        {
          "output_type": "stream",
          "text": [
            "mkdir: cannot create directory ‘MNIST_Fashion’: File exists\n"
          ],
          "name": "stdout"
        }
      ]
    },
    {
      "cell_type": "code",
      "metadata": {
        "id": "uOHcPGTuUmN3",
        "colab_type": "code",
        "colab": {
          "base_uri": "https://localhost:8080/",
          "height": 85
        },
        "outputId": "b520a1af-8a5c-42bf-e5fd-fd247e24dce6"
      },
      "source": [
        "from tensorflow.examples.tutorials.mnist import input_data\n",
        "mnist = input_data.read_data_sets(\"MNIST_Fashion/\")"
      ],
      "execution_count": 48,
      "outputs": [
        {
          "output_type": "stream",
          "text": [
            "Extracting MNIST_Fashion/train-images-idx3-ubyte.gz\n",
            "Extracting MNIST_Fashion/train-labels-idx1-ubyte.gz\n",
            "Extracting MNIST_Fashion/t10k-images-idx3-ubyte.gz\n",
            "Extracting MNIST_Fashion/t10k-labels-idx1-ubyte.gz\n"
          ],
          "name": "stdout"
        }
      ]
    },
    {
      "cell_type": "code",
      "metadata": {
        "id": "0qas6ihZU0wg",
        "colab_type": "code",
        "colab": {}
      },
      "source": [
        "learning_rate  =0.0002\n",
        "batch_size = 128\n",
        "epochs = 100000\n",
        "\n",
        "image_dim = 784\n",
        "gen_hidd_dim = 256\n",
        "disc_hidd_dim = 256\n",
        "z_noise_dim = 100\n",
        "\n",
        "def xavier_init(shape):\n",
        "  return tf.random.normal(shape = shape, stddev = 1/tf.sqrt(shape[0]/2.0))"
      ],
      "execution_count": 0,
      "outputs": []
    },
    {
      "cell_type": "code",
      "metadata": {
        "id": "fssxj81eU5Kn",
        "colab_type": "code",
        "colab": {}
      },
      "source": [
        "weights = {\n",
        "    \"disc_H\" : tf.Variable( xavier_init( [ image_dim, disc_hidd_dim ] ) ),\n",
        "    \"disc_final\" : tf.Variable( xavier_init( [disc_hidd_dim ,  1] ) ),\n",
        "    \"gen_H\" : tf.Variable(xavier_init([z_noise_dim, gen_hidd_dim])),\n",
        "    \"gen_final\" : tf.Variable(xavier_init([gen_hidd_dim, image_dim]))\n",
        "}\n",
        "bias = {\n",
        "    \"disc_H\" : tf.Variable(xavier_init( [ disc_hidd_dim] )),\n",
        "    \"disc_final\" : tf.Variable(xavier_init( [1] ) ),\n",
        "    \"gen_H\" : tf.Variable(xavier_init( [gen_hidd_dim] )),\n",
        "    \"gen_final\" : tf.Variable(xavier_init( [image_dim] ))\n",
        "}"
      ],
      "execution_count": 0,
      "outputs": []
    },
    {
      "cell_type": "code",
      "metadata": {
        "id": "vldV4j4SYB44",
        "colab_type": "code",
        "colab": {}
      },
      "source": [
        "def Discriminator(x):\n",
        "  hidden_layer = tf.nn.relu( tf.add( tf.matmul( x,weights[\"disc_H\"]  ) , bias[\"disc_H\"] ) )\n",
        "  final_layer = tf.add(tf.matmul( hidden_layer, weights[\"disc_final\"] ), bias[\"disc_final\"] )\n",
        "  disc_output = tf.nn.sigmoid(final_layer)\n",
        "  return final_layer, disc_output\n",
        "\n",
        "def Generator(x):\n",
        "  hidden_layer = tf.nn.relu( tf.add( tf.matmul( x,weights[\"gen_H\"]  ) , bias[\"gen_H\"] ) )\n",
        "  final_layer = tf.add(tf.matmul( hidden_layer, weights[\"gen_final\"] ), bias[\"gen_final\"] )\n",
        "  gen_output = tf.nn.sigmoid(final_layer)\n",
        "  return gen_output\n",
        "\n",
        "z_input = tf.placeholder( tf.float32, shape = [ None, z_noise_dim ], name = \"input_noise\")\n",
        "x_input = tf.placeholder( tf.float32, shape = [ None, image_dim ], name = \"real_input\")\n",
        "\n",
        "with tf.name_scope(\"Generator\") as scope:\n",
        "  output_gen = Generator(z_input)\n",
        "\n",
        "with tf.name_scope(\"Discriminator\") as scope:\n",
        "  real_output1_Disc, real_output_Disc = Discriminator(x_input)\n",
        "  fake_output1_Disc, fake_output_Disc = Discriminator(output_gen)\n"
      ],
      "execution_count": 0,
      "outputs": []
    },
    {
      "cell_type": "code",
      "metadata": {
        "id": "U7NzROtXaOzC",
        "colab_type": "code",
        "colab": {}
      },
      "source": [
        "with tf.name_scope(\"Discriminator_Loss\") as scope:\n",
        "  Discriminator_Loss = -tf.reduce_mean( tf.log( real_output_Disc + 0.0001 ) + tf.log( 1. - fake_output_Disc + 0.0001 ) )\n",
        "with tf.name_scope(\"Generator_Loss\") as scope:\n",
        "  Generator_Loss = tf.reduce_mean( tf.log( fake_output_Disc + 0.0001 ) )\n",
        "\n",
        "Disc_loss_total = tf.summary.scalar( \"Disc_Loss_total\", Discriminator_Loss )\n",
        "Gen_loss_total = tf.summary.scalar( \"Gen_Loss_total\", Generator_Loss )\n"
      ],
      "execution_count": 0,
      "outputs": []
    },
    {
      "cell_type": "code",
      "metadata": {
        "id": "a9yATp1Hc4Ok",
        "colab_type": "code",
        "colab": {}
      },
      "source": [
        "with tf.name_scope(\"Discriminator_Loss\") as scope:\n",
        "  Disc_real_loss = tf.reduce_mean( tf.nn.sigmoid_cross_entropy_with_logits( logits = real_output1_Disc, labels = tf.ones_like(real_output1_Disc) ) )\n",
        "  Disc_fake_loss = tf.reduce_mean( tf.nn.sigmoid_cross_entropy_with_logits( logits = fake_output1_Disc, labels = tf.zeros_like(fake_output1_Disc) ) )\n",
        "  Discriminator_Loss = Disc_real_loss + Disc_fake_loss\n",
        "with tf.name_scope(\"Generator_Loss\") as scope:\n",
        "  Generator_Loss = tf.reduce_mean( tf.nn.sigmoid_cross_entropy_with_logits( logits = fake_output1_Disc, labels= tf.ones_like(fake_output1_Disc) ) )\n",
        "\n",
        "Disc_loss_real_summary = tf.summary.scalar( \"Discriminator_real_loss\",Disc_real_loss )\n",
        "Disc_loss_fake_summary = tf.summary.scalar( \"Discriminator_fake_loss\",Disc_fake_loss )\n",
        "Disc_loss_summary = tf.summary.scalar( \"Discriminator_total_loss\", Discriminator_Loss )\n",
        "Disc_loss_total = tf.summary.merge( [ Disc_loss_real_summary, Disc_loss_fake_summary, Disc_loss_summary] )\n",
        "Gen_loss_total = tf.summary.scalar( \"Generator_Loss\", Generator_Loss )"
      ],
      "execution_count": 0,
      "outputs": []
    },
    {
      "cell_type": "code",
      "metadata": {
        "id": "aGB8O1UGlUyA",
        "colab_type": "code",
        "colab": {}
      },
      "source": [
        "import tensorflow_probability as tfp\n",
        "Generator_var = [ weights[\"gen_H\"], weights[\"gen_final\"], biases[\"gen_H\"], biases[\"gen_final\"] ]\n",
        "Discriminator_var = [ weights[\"disc_H\"], weights[\"disc_final\"], biases[\"disc_H\"], biases[\"disc_final\"] ]\n",
        "\n",
        "with tf.name_scope(\"Optimizer_Discriminator\") as scope:\n",
        "  Discriminator_optimize = tf.train.AdamOptimizer( learning_rate= learning_rate ).minimize(Discriminator_Loss, var_list = Discriminator_var)\n",
        "\n",
        "with tf.name_scope(\"Optimizer_Generator\") as scope:\n",
        "  Generator_optimize = tf.train.AdamOptimizer( learning_rate= learning_rate).minimize( Generator_Loss, var_list = Generator_var ) \n"
      ],
      "execution_count": 0,
      "outputs": []
    },
    {
      "cell_type": "code",
      "metadata": {
        "id": "ccwOfZxfpLjy",
        "colab_type": "code",
        "colab": {
          "base_uri": "https://localhost:8080/",
          "height": 357
        },
        "outputId": "468938d8-1e01-4998-dfe4-8fc5fc021f01"
      },
      "source": [
        "init = tf.global_variables_initializer()\n",
        "\n",
        "sess = tf.Session()\n",
        "sess.run(init)\n",
        "writer = tf.summary.FileWriter(\"./log\", sess.graph)\n",
        "for epoch in range(epochs):\n",
        "  x_batch, _ = mnist.train.next_batch(batch_size)\n",
        "  z_noise = np.random.uniform( -1, 1, size = [batch_size, z_noise_dim] )\n",
        "  _, Disc_loss_epoch = sess.run( [ Discriminator_optimize, Discriminator_Loss ], feed_dict = {x_input :x_batch, z_input : z_noise } )\n",
        "  _,Gen_loss_epoch = sess.run([Generator_optimize, Generator_Loss] , feed_dict = {z_input: z_noise} )\n",
        "\n",
        "  summary_Disc_Loss = sess.run(Disc_loss_total, feed_dict = { x_input : x_batch, z_input : z_noise })\n",
        "  writer.add_summary(summary_Disc_Loss, epoch)\n",
        "\n",
        "  summary_Gen_Loss = sess.run(Gen_loss_total, feed_dict = { z_input : z_noise })\n",
        "  writer.add_summary(summary_Gen_Loss, epoch)\n",
        "  if epoch%2000 ==0:\n",
        "    print( \"Steps\", epoch, \"/tGenerator_loss : \", Gen_loss_epoch, \"\\tDiscriminator_loss: \",Disc_loss_epoch )\n",
        "  "
      ],
      "execution_count": 0,
      "outputs": [
        {
          "output_type": "stream",
          "text": [
            "Steps 0 /tGenerator_loss :  1.141367 \tDiscriminator_loss:  1.4550066\n",
            "Steps 2000 /tGenerator_loss :  5.838198 \tDiscriminator_loss:  0.03354591\n",
            "Steps 4000 /tGenerator_loss :  4.93762 \tDiscriminator_loss:  0.10547559\n",
            "Steps 6000 /tGenerator_loss :  3.7142353 \tDiscriminator_loss:  0.25222838\n",
            "Steps 8000 /tGenerator_loss :  3.398012 \tDiscriminator_loss:  0.26229975\n",
            "Steps 10000 /tGenerator_loss :  3.3114724 \tDiscriminator_loss:  0.2733131\n",
            "Steps 12000 /tGenerator_loss :  3.0144832 \tDiscriminator_loss:  0.48242354\n",
            "Steps 14000 /tGenerator_loss :  2.9205518 \tDiscriminator_loss:  0.45985013\n",
            "Steps 16000 /tGenerator_loss :  2.33579 \tDiscriminator_loss:  0.46037793\n",
            "Steps 18000 /tGenerator_loss :  2.3788767 \tDiscriminator_loss:  0.53861827\n",
            "Steps 20000 /tGenerator_loss :  2.663803 \tDiscriminator_loss:  0.6280863\n",
            "Steps 22000 /tGenerator_loss :  2.2733645 \tDiscriminator_loss:  0.57863843\n",
            "Steps 24000 /tGenerator_loss :  2.670679 \tDiscriminator_loss:  0.4049753\n",
            "Steps 26000 /tGenerator_loss :  2.3089435 \tDiscriminator_loss:  0.54879344\n",
            "Steps 28000 /tGenerator_loss :  2.5672607 \tDiscriminator_loss:  0.48542258\n",
            "Steps 30000 /tGenerator_loss :  2.0036485 \tDiscriminator_loss:  0.5828626\n",
            "Steps 32000 /tGenerator_loss :  2.7256532 \tDiscriminator_loss:  0.6192188\n",
            "Steps 34000 /tGenerator_loss :  1.930503 \tDiscriminator_loss:  0.77832985\n",
            "Steps 36000 /tGenerator_loss :  2.4338942 \tDiscriminator_loss:  0.80496097\n",
            "Steps 38000 /tGenerator_loss :  2.6156397 \tDiscriminator_loss:  0.50222397\n"
          ],
          "name": "stdout"
        }
      ]
    },
    {
      "cell_type": "code",
      "metadata": {
        "id": "GBXuT8Ky5ZdA",
        "colab_type": "code",
        "colab": {
          "base_uri": "https://localhost:8080/",
          "height": 377
        },
        "outputId": "2de30d66-dd1c-4862-c111-9e7deabcd1ea"
      },
      "source": [
        "n = 6\n",
        "canvas = np.empty ((28 *n,  28 *n ))\n",
        "for i in range(n):\n",
        "  z_noise = np.random.uniform(-1, 1, size = [batch_size, z_noise_dim])\n",
        "  g = sess.run(output_gen, feed_dict = {z_input : z_noise})\n",
        "\n",
        "  g = -1 * (g-1)\n",
        "  for j in range(n):\n",
        "    canvas[ i * 28: (i+1)*28, j*28 : (j+1)*28] = g[j].reshape([28,28])\n",
        "  \n",
        "plt.figure( figsize = (n, n) )\n",
        "plt.imshow(canvas, origin = \"upper\", cmap = \"gray\")\n",
        "plt.show()"
      ],
      "execution_count": 74,
      "outputs": [
        {
          "output_type": "display_data",
          "data": {
            "image/png": "[encoded data removed]",
            "text/plain": [
              "<Figure size 432x432 with 1 Axes>"
            ]
          },
          "metadata": {
            "tags": []
          }
        }
      ]
    },
    {
      "cell_type": "code",
      "metadata": {
        "id": "cTVJTSP_8AMN",
        "colab_type": "code",
        "colab": {}
      },
      "source": [
        ""
      ],
      "execution_count": 0,
      "outputs": []
    }
  ]
}